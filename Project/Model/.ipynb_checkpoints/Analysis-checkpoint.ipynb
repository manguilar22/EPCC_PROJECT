{
 "cells": [
  {
   "cell_type": "code",
   "execution_count": null,
   "metadata": {},
   "outputs": [],
   "source": [
    "from classes.Algorithms import Algorithms\n",
    "import pickle as p"
   ]
  },
  {
   "cell_type": "markdown",
   "metadata": {},
   "source": [
    "<h1 style=\"color:yellow\"> Load Data through Serialization</h1> "
   ]
  },
  {
   "cell_type": "code",
   "execution_count": null,
   "metadata": {},
   "outputs": [],
   "source": [
    "with open(\"../DATA/Locations.dat\",\"rb\") as f:\n",
    "    data=p.load(f)"
   ]
  },
  {
   "cell_type": "markdown",
   "metadata": {},
   "source": [
    "<h1 style=\"color:yellow\">Dictionaries</h1> \n",
    "<i><b style=\"color:red\">*</b> <u>Using dictionaries forces to sort objects as inserted</u></i>"
   ]
  },
  {
   "cell_type": "code",
   "execution_count": null,
   "metadata": {},
   "outputs": [],
   "source": [
    "names=dict(zip(data[\"DD\"],data[\"Name\"]))\n",
    "coord=dict(zip(data[\"Name\"],data[\"DD\"]))\n",
    "with open(\"../DATA/NameCoordinateMAP.dat\",\"wb\") as f: \n",
    "    p.dump(coord,f)\n",
    "with open(\"../DATA/CoordinatesNameMAP.dat\",\"wb\") as f:\n",
    "    p.dump(names,f)\n",
    "print(\"\\n\\nNames: || Coordinates || Name ||\\n\\n{n}\\n\\nCoordinates: || Name || Coordinates ||\\n\\n{c}\".format(n=names,c=coord))"
   ]
  },
  {
   "cell_type": "markdown",
   "metadata": {},
   "source": [
    "<h1 style=\"color:yellow\"> Sorting </h1> \n",
    "$$\\psi=\\sqrt{\\sum_{i=0}^{n}(P_i-Q_i)^2}=C$$\n",
    "<blockquote> \n",
    "<pre>\n",
    "<u>a</u> := { (x<sub>1</sub>,y<sub>1</sub>) , (x<sub>2</sub>,y<sub>2</sub>) , (x<sub>3</sub>,y<sub>3</sub>) , (x<sub>4</sub>,y<sub>4</sub>), &there4;} \n",
    "<u> <span style=\"font-size:25px;\">&psi;</span>(a) </u> \n",
    " c := { tuple(x<sub>1</sub>,y<sub>1</sub>),(c<sub>1</sub>,c<sub>2</sub>) , tuple(x<sub>2</sub>,y<sub>2</sub>),(c<sub>1</sub>,c<sub>2</sub>), &there4;}\n",
    "</pre>\n",
    "</blockquote>"
   ]
  },
  {
   "cell_type": "code",
   "execution_count": null,
   "metadata": {},
   "outputs": [],
   "source": [
    "c=Algorithms().euclideanDistance(list(coord.values()))\n",
    "[print(i,\"\\t\\t\\t\\t\",j) for (i,j) in c]\n",
    "print(\"\\n\")\n",
    "[print(names[i],\"\\t\\t\\t\\t\",names[j]) for (i,j) in c]"
   ]
  },
  {
   "cell_type": "code",
   "execution_count": null,
   "metadata": {},
   "outputs": [],
   "source": [
    "a,b=zip(*c)\n",
    "registry=dict(zip(a,b))\n",
    "registry"
   ]
  },
  {
   "cell_type": "code",
   "execution_count": null,
   "metadata": {},
   "outputs": [],
   "source": [
    "print(Algorithms().find(coord[\"El Paso LTAC Hospital\"],list(coord.values())))"
   ]
  }
 ],
 "metadata": {
  "kernelspec": {
   "display_name": "Python 3",
   "language": "python",
   "name": "python3"
  },
  "language_info": {
   "codemirror_mode": {
    "name": "ipython",
    "version": 3
   },
   "file_extension": ".py",
   "mimetype": "text/x-python",
   "name": "python",
   "nbconvert_exporter": "python",
   "pygments_lexer": "ipython3",
   "version": "3.6.4"
  }
 },
 "nbformat": 4,
 "nbformat_minor": 2
}
