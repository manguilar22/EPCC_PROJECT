{
 "cells": [
  {
   "cell_type": "code",
   "execution_count": 6,
   "metadata": {},
   "outputs": [],
   "source": [
    "from classes.Algorithms import Algorithms\n",
    "import pickle as p"
   ]
  },
  {
   "cell_type": "code",
   "execution_count": 7,
   "metadata": {},
   "outputs": [
    {
     "name": "stdout",
     "output_type": "stream",
     "text": [
      "toString representation:=\n",
      "\n",
      "        UUID: a1d974d9e02f704c38743e4943e8904fb2b49d79d9874bacccf6a2086a4aa6b97f158fa8df9901a5c5644c8e3db4a6221d9b41e9de0abf6408e76567b3636ab4\n",
      "        Name: Community College of the Air Force\n",
      "        Address: 130 W Maxwell Blvd\n",
      "        City: Montgomery \n",
      "        Zip Code: 36112-6613 \n",
      "        Web: www.maxwell.af.mil/au/ccaf/ \n",
      "        Program Name: nan\n",
      "        \n",
      "\n",
      "Size of Objects:=\t43789\n",
      "\n"
     ]
    }
   ],
   "source": [
    "with open(\"../DATA/CollegeObjects.dat\",\"rb\") as f: \n",
    "    data=p.load(f)\n",
    "    f.close()\n",
    "print(\"toString representation:=\\n{repre}\\n\\nSize of Objects:=\\t{sz}\\n\".format(repre=data[0],sz=len(data)))"
   ]
  },
  {
   "cell_type": "markdown",
   "metadata": {},
   "source": [
    "<h1> <u>Making Maps</u> </h1> \n",
    "<ol style=\"list-style-type:square\">\n",
    "    <li> <b style=\"color:indianred\">A</b> := <i>Dictionary</i> <b>{</b> (Name of College, City Of College) : Zip_Code <b>}</b>\n",
    "</li>\n",
    "    <br/>\n",
    "    <li><b style=\"color:indianred\">B</b> := <i>Dictionary</i> <b>{</b> (Program Of College, City of College): Web Address<b> }</b></li>\n",
    "    <br/>\n",
    "    <li><b style=\"color:indianred\">C</b> := <i>Dictionary</i> <b>{</b> (Index,Name): Address<b>}</b></li>\n",
    "    </ol>"
   ]
  },
  {
   "cell_type": "code",
   "execution_count": 8,
   "metadata": {},
   "outputs": [],
   "source": [
    "# Format => (name,city): zip_code\n",
    "A=dict(\n",
    "    zip(\n",
    "        tuple(\n",
    "            zip(\n",
    "                list(\n",
    "                    map(lambda i: i.name,data)),\n",
    "                list(\n",
    "                    map(lambda i: i.city,data)))),\n",
    "        map(lambda i: i.zip_code,data)))"
   ]
  },
  {
   "cell_type": "code",
   "execution_count": 9,
   "metadata": {},
   "outputs": [],
   "source": [
    "# Format => (progam_name,city): web\n",
    "B=dict(\n",
    "    zip(\n",
    "        tuple(\n",
    "            zip(\n",
    "                list(\n",
    "                    map(lambda i: i.name,data)),\n",
    "                list(\n",
    "                    map(lambda i: i.city,data)))),\n",
    "        list(map(lambda i: i.web,data))))"
   ]
  },
  {
   "cell_type": "code",
   "execution_count": 10,
   "metadata": {},
   "outputs": [],
   "source": [
    "C=dict(\n",
    "    zip(\n",
    "        enumerate(map(lambda i: i.name,data)),\n",
    "        list(\n",
    "            map(lambda i: i.address,data))))"
   ]
  }
 ],
 "metadata": {
  "kernelspec": {
   "display_name": "Python 3",
   "language": "python",
   "name": "python3"
  },
  "language_info": {
   "codemirror_mode": {
    "name": "ipython",
    "version": 3
   },
   "file_extension": ".py",
   "mimetype": "text/x-python",
   "name": "python",
   "nbconvert_exporter": "python",
   "pygments_lexer": "ipython3",
   "version": "3.6.4"
  }
 },
 "nbformat": 4,
 "nbformat_minor": 2
}
