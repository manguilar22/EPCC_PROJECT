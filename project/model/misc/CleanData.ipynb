{
 "cells": [
  {
   "cell_type": "code",
   "execution_count": 6,
   "metadata": {},
   "outputs": [],
   "source": [
    "from collections import OrderedDict\n",
    "from tqdm import *\n",
    "import pandas as pd\n",
    "import seaborn as sns \n",
    "%matplotlib inline "
   ]
  },
  {
   "cell_type": "markdown",
   "metadata": {},
   "source": [
    "<h1> <span style=\"color:indianred\">Unclean Data Set</span>; <span style=\"color:lightblue\">Not Parsed</span> </h1>"
   ]
  },
  {
   "cell_type": "code",
   "execution_count": 7,
   "metadata": {},
   "outputs": [
    {
     "data": {
      "text/html": [
       "<div>\n",
       "<table border=\"1\" class=\"dataframe\">\n",
       "  <thead>\n",
       "    <tr style=\"text-align: right;\">\n",
       "      <th></th>\n",
       "      <th>Institution_ID</th>\n",
       "      <th>Institution_Name</th>\n",
       "      <th>Institution_Address</th>\n",
       "      <th>Institution_City</th>\n",
       "      <th>Institution_State</th>\n",
       "      <th>Institution_Zip</th>\n",
       "      <th>Institution_Phone</th>\n",
       "      <th>Institution_OPEID</th>\n",
       "      <th>Institution_IPEDS_UnitID</th>\n",
       "      <th>Institution_Web_Address</th>\n",
       "      <th>...</th>\n",
       "      <th>Agency_Status</th>\n",
       "      <th>Program_Name</th>\n",
       "      <th>Accreditation_Status</th>\n",
       "      <th>Accreditation_Date_Type</th>\n",
       "      <th>Periods</th>\n",
       "      <th>Last Action</th>\n",
       "      <th>Action Date</th>\n",
       "      <th>Justification</th>\n",
       "      <th>Other_Justification</th>\n",
       "      <th>Justification_Url</th>\n",
       "    </tr>\n",
       "  </thead>\n",
       "  <tbody>\n",
       "    <tr>\n",
       "      <th>0</th>\n",
       "      <td>100016</td>\n",
       "      <td>Community College of the Air Force</td>\n",
       "      <td>130 W Maxwell Blvd</td>\n",
       "      <td>Montgomery</td>\n",
       "      <td>AL</td>\n",
       "      <td>36112-6613</td>\n",
       "      <td>334-953-6436</td>\n",
       "      <td>01230800</td>\n",
       "      <td>100636.0</td>\n",
       "      <td>www.maxwell.af.mil/au/ccaf/</td>\n",
       "      <td>...</td>\n",
       "      <td>NaN</td>\n",
       "      <td>NaN</td>\n",
       "      <td>Accredited</td>\n",
       "      <td>Estimated</td>\n",
       "      <td>07/01/1980 - Current</td>\n",
       "      <td>NaN</td>\n",
       "      <td>NaN</td>\n",
       "      <td>NaN</td>\n",
       "      <td>NaN</td>\n",
       "      <td>NaN</td>\n",
       "    </tr>\n",
       "    <tr>\n",
       "      <th>1</th>\n",
       "      <td>100016</td>\n",
       "      <td>Community College of the Air Force</td>\n",
       "      <td>130 W Maxwell Blvd</td>\n",
       "      <td>Montgomery</td>\n",
       "      <td>AL</td>\n",
       "      <td>36112-6613</td>\n",
       "      <td>334-953-6436</td>\n",
       "      <td>01230800</td>\n",
       "      <td>100636.0</td>\n",
       "      <td>www.maxwell.af.mil/au/ccaf/</td>\n",
       "      <td>...</td>\n",
       "      <td>NaN</td>\n",
       "      <td>Physical Therapy (PTA) - Programs for the phys...</td>\n",
       "      <td>Accredited</td>\n",
       "      <td>Actual</td>\n",
       "      <td>12/01/1976 - Current</td>\n",
       "      <td>Probation or Equivalent or a More Severe Statu...</td>\n",
       "      <td>11/9/2016</td>\n",
       "      <td>NaN</td>\n",
       "      <td>NaN</td>\n",
       "      <td>NaN</td>\n",
       "    </tr>\n",
       "    <tr>\n",
       "      <th>2</th>\n",
       "      <td>100025</td>\n",
       "      <td>Alabama A &amp; M University</td>\n",
       "      <td>4900 Meridian St</td>\n",
       "      <td>Normal</td>\n",
       "      <td>AL</td>\n",
       "      <td>35762</td>\n",
       "      <td>256-372-5000</td>\n",
       "      <td>00100200</td>\n",
       "      <td>100654.0</td>\n",
       "      <td>www.aamu.edu/</td>\n",
       "      <td>...</td>\n",
       "      <td>NaN</td>\n",
       "      <td>NaN</td>\n",
       "      <td>Accredited</td>\n",
       "      <td>Estimated</td>\n",
       "      <td>07/01/1963 - Current</td>\n",
       "      <td>NaN</td>\n",
       "      <td>NaN</td>\n",
       "      <td>NaN</td>\n",
       "      <td>NaN</td>\n",
       "      <td>NaN</td>\n",
       "    </tr>\n",
       "    <tr>\n",
       "      <th>3</th>\n",
       "      <td>100025</td>\n",
       "      <td>Alabama A &amp; M University</td>\n",
       "      <td>4900 Meridian St</td>\n",
       "      <td>Normal</td>\n",
       "      <td>AL</td>\n",
       "      <td>35762</td>\n",
       "      <td>256-372-5000</td>\n",
       "      <td>00100200</td>\n",
       "      <td>100654.0</td>\n",
       "      <td>www.aamu.edu/</td>\n",
       "      <td>...</td>\n",
       "      <td>NaN</td>\n",
       "      <td>Didactic Program in Dietetics</td>\n",
       "      <td>Accredited</td>\n",
       "      <td>Actual</td>\n",
       "      <td>12/01/1979 - Current</td>\n",
       "      <td>NaN</td>\n",
       "      <td>NaN</td>\n",
       "      <td>NaN</td>\n",
       "      <td>NaN</td>\n",
       "      <td>NaN</td>\n",
       "    </tr>\n",
       "    <tr>\n",
       "      <th>4</th>\n",
       "      <td>100025</td>\n",
       "      <td>Alabama A &amp; M University</td>\n",
       "      <td>4900 Meridian St</td>\n",
       "      <td>Normal</td>\n",
       "      <td>AL</td>\n",
       "      <td>35762</td>\n",
       "      <td>256-372-5000</td>\n",
       "      <td>00100200</td>\n",
       "      <td>100654.0</td>\n",
       "      <td>www.aamu.edu/</td>\n",
       "      <td>...</td>\n",
       "      <td>NaN</td>\n",
       "      <td>Speech-Language Pathology (SLP) - Graduate deg...</td>\n",
       "      <td>Accredited</td>\n",
       "      <td>Actual</td>\n",
       "      <td>10/01/1994 - Current</td>\n",
       "      <td>NaN</td>\n",
       "      <td>NaN</td>\n",
       "      <td>NaN</td>\n",
       "      <td>NaN</td>\n",
       "      <td>NaN</td>\n",
       "    </tr>\n",
       "  </tbody>\n",
       "</table>\n",
       "<p>5 rows × 29 columns</p>\n",
       "</div>"
      ],
      "text/plain": [
       "   Institution_ID                    Institution_Name Institution_Address  \\\n",
       "0          100016  Community College of the Air Force  130 W Maxwell Blvd   \n",
       "1          100016  Community College of the Air Force  130 W Maxwell Blvd   \n",
       "2          100025            Alabama A & M University    4900 Meridian St   \n",
       "3          100025            Alabama A & M University    4900 Meridian St   \n",
       "4          100025            Alabama A & M University    4900 Meridian St   \n",
       "\n",
       "  Institution_City Institution_State Institution_Zip Institution_Phone  \\\n",
       "0       Montgomery                AL      36112-6613      334-953-6436   \n",
       "1       Montgomery                AL      36112-6613      334-953-6436   \n",
       "2           Normal                AL           35762      256-372-5000   \n",
       "3           Normal                AL           35762      256-372-5000   \n",
       "4           Normal                AL           35762      256-372-5000   \n",
       "\n",
       "  Institution_OPEID  Institution_IPEDS_UnitID      Institution_Web_Address  \\\n",
       "0          01230800                  100636.0  www.maxwell.af.mil/au/ccaf/   \n",
       "1          01230800                  100636.0  www.maxwell.af.mil/au/ccaf/   \n",
       "2          00100200                  100654.0                www.aamu.edu/   \n",
       "3          00100200                  100654.0                www.aamu.edu/   \n",
       "4          00100200                  100654.0                www.aamu.edu/   \n",
       "\n",
       "         ...         Agency_Status  \\\n",
       "0        ...                   NaN   \n",
       "1        ...                   NaN   \n",
       "2        ...                   NaN   \n",
       "3        ...                   NaN   \n",
       "4        ...                   NaN   \n",
       "\n",
       "                                        Program_Name Accreditation_Status  \\\n",
       "0                                                NaN           Accredited   \n",
       "1  Physical Therapy (PTA) - Programs for the phys...           Accredited   \n",
       "2                                                NaN           Accredited   \n",
       "3                      Didactic Program in Dietetics           Accredited   \n",
       "4  Speech-Language Pathology (SLP) - Graduate deg...           Accredited   \n",
       "\n",
       "  Accreditation_Date_Type               Periods  \\\n",
       "0               Estimated  07/01/1980 - Current   \n",
       "1                  Actual  12/01/1976 - Current   \n",
       "2               Estimated  07/01/1963 - Current   \n",
       "3                  Actual  12/01/1979 - Current   \n",
       "4                  Actual  10/01/1994 - Current   \n",
       "\n",
       "                                         Last Action  Action Date  \\\n",
       "0                                                NaN          NaN   \n",
       "1  Probation or Equivalent or a More Severe Statu...    11/9/2016   \n",
       "2                                                NaN          NaN   \n",
       "3                                                NaN          NaN   \n",
       "4                                                NaN          NaN   \n",
       "\n",
       "  Justification Other_Justification Justification_Url  \n",
       "0           NaN                 NaN               NaN  \n",
       "1           NaN                 NaN               NaN  \n",
       "2           NaN                 NaN               NaN  \n",
       "3           NaN                 NaN               NaN  \n",
       "4           NaN                 NaN               NaN  \n",
       "\n",
       "[5 rows x 29 columns]"
      ]
     },
     "execution_count": 7,
     "metadata": {},
     "output_type": "execute_result"
    }
   ],
   "source": [
    "df=pd.read_csv(\"../../DATA/Accreditation_04_2017.csv\")\n",
    "h=OrderedDict({\n",
    "    \"Name\":df[\"Institution_Name\"],\n",
    "    \"Address\":df[\"Institution_Address\"],\n",
    "    \"City\":df[\"Institution_City\"],\n",
    "    \"Zip\":df[\"Institution_Zip\"],\n",
    "    \"Web\":df[\"Institution_Web_Address\"],\n",
    "    \"Program Name\":df[\"Program_Name\"]\n",
    "})\n",
    "munged=pd.DataFrame(h)\n",
    "df.head()"
   ]
  },
  {
   "cell_type": "code",
   "execution_count": 8,
   "metadata": {},
   "outputs": [
    {
     "data": {
      "text/html": [
       "<div>\n",
       "<table border=\"1\" class=\"dataframe\">\n",
       "  <thead>\n",
       "    <tr style=\"text-align: right;\">\n",
       "      <th></th>\n",
       "      <th>Name</th>\n",
       "      <th>Address</th>\n",
       "      <th>City</th>\n",
       "      <th>Zip</th>\n",
       "      <th>Web</th>\n",
       "      <th>Program Name</th>\n",
       "    </tr>\n",
       "  </thead>\n",
       "  <tbody>\n",
       "    <tr>\n",
       "      <th>0</th>\n",
       "      <td>Community College of the Air Force</td>\n",
       "      <td>130 W Maxwell Blvd</td>\n",
       "      <td>Montgomery</td>\n",
       "      <td>36112-6613</td>\n",
       "      <td>www.maxwell.af.mil/au/ccaf/</td>\n",
       "      <td>NaN</td>\n",
       "    </tr>\n",
       "    <tr>\n",
       "      <th>1</th>\n",
       "      <td>Community College of the Air Force</td>\n",
       "      <td>130 W Maxwell Blvd</td>\n",
       "      <td>Montgomery</td>\n",
       "      <td>36112-6613</td>\n",
       "      <td>www.maxwell.af.mil/au/ccaf/</td>\n",
       "      <td>Physical Therapy (PTA) - Programs for the phys...</td>\n",
       "    </tr>\n",
       "    <tr>\n",
       "      <th>2</th>\n",
       "      <td>Alabama A &amp; M University</td>\n",
       "      <td>4900 Meridian St</td>\n",
       "      <td>Normal</td>\n",
       "      <td>35762</td>\n",
       "      <td>www.aamu.edu/</td>\n",
       "      <td>NaN</td>\n",
       "    </tr>\n",
       "    <tr>\n",
       "      <th>3</th>\n",
       "      <td>Alabama A &amp; M University</td>\n",
       "      <td>4900 Meridian St</td>\n",
       "      <td>Normal</td>\n",
       "      <td>35762</td>\n",
       "      <td>www.aamu.edu/</td>\n",
       "      <td>Didactic Program in Dietetics</td>\n",
       "    </tr>\n",
       "    <tr>\n",
       "      <th>4</th>\n",
       "      <td>Alabama A &amp; M University</td>\n",
       "      <td>4900 Meridian St</td>\n",
       "      <td>Normal</td>\n",
       "      <td>35762</td>\n",
       "      <td>www.aamu.edu/</td>\n",
       "      <td>Speech-Language Pathology (SLP) - Graduate deg...</td>\n",
       "    </tr>\n",
       "  </tbody>\n",
       "</table>\n",
       "</div>"
      ],
      "text/plain": [
       "                                 Name             Address        City  \\\n",
       "0  Community College of the Air Force  130 W Maxwell Blvd  Montgomery   \n",
       "1  Community College of the Air Force  130 W Maxwell Blvd  Montgomery   \n",
       "2            Alabama A & M University    4900 Meridian St      Normal   \n",
       "3            Alabama A & M University    4900 Meridian St      Normal   \n",
       "4            Alabama A & M University    4900 Meridian St      Normal   \n",
       "\n",
       "          Zip                          Web  \\\n",
       "0  36112-6613  www.maxwell.af.mil/au/ccaf/   \n",
       "1  36112-6613  www.maxwell.af.mil/au/ccaf/   \n",
       "2       35762                www.aamu.edu/   \n",
       "3       35762                www.aamu.edu/   \n",
       "4       35762                www.aamu.edu/   \n",
       "\n",
       "                                        Program Name  \n",
       "0                                                NaN  \n",
       "1  Physical Therapy (PTA) - Programs for the phys...  \n",
       "2                                                NaN  \n",
       "3                      Didactic Program in Dietetics  \n",
       "4  Speech-Language Pathology (SLP) - Graduate deg...  "
      ]
     },
     "execution_count": 8,
     "metadata": {},
     "output_type": "execute_result"
    }
   ],
   "source": [
    "munged.head()"
   ]
  },
  {
   "cell_type": "markdown",
   "metadata": {
    "collapsed": true
   },
   "source": [
    "<h1> Data Types </h1> "
   ]
  },
  {
   "cell_type": "code",
   "execution_count": 9,
   "metadata": {},
   "outputs": [
    {
     "data": {
      "text/plain": [
       "Name            object\n",
       "Address         object\n",
       "City            object\n",
       "Zip             object\n",
       "Web             object\n",
       "Program Name    object\n",
       "dtype: object"
      ]
     },
     "execution_count": 9,
     "metadata": {},
     "output_type": "execute_result"
    }
   ],
   "source": [
    "munged.dtypes"
   ]
  },
  {
   "cell_type": "code",
   "execution_count": 11,
   "metadata": {},
   "outputs": [],
   "source": [
    "munged.to_json(\"../../DATA/Colleges.json\")\n",
    "munged.to_csv(\"../../DATA/Colleges.csv\",encoding=\"UTF-8\",index=False)\n",
    "munged.to_excel(\"../../DATA/Colleges.xls\")"
   ]
  },
  {
   "cell_type": "markdown",
   "metadata": {},
   "source": [
    "<h1 style=\"color:lightblue\">Parsed Data Set</h1>  "
   ]
  },
  {
   "cell_type": "code",
   "execution_count": 12,
   "metadata": {},
   "outputs": [
    {
     "ename": "ModuleNotFoundError",
     "evalue": "No module named 'classes'",
     "output_type": "error",
     "traceback": [
      "\u001b[0;31m---------------------------------------------------------------------------\u001b[0m",
      "\u001b[0;31mModuleNotFoundError\u001b[0m                       Traceback (most recent call last)",
      "\u001b[0;32m<ipython-input-12-c9b361c43fa1>\u001b[0m in \u001b[0;36m<module>\u001b[0;34m()\u001b[0m\n\u001b[0;32m----> 1\u001b[0;31m \u001b[0;32mfrom\u001b[0m \u001b[0mclasses\u001b[0m\u001b[0;34m.\u001b[0m\u001b[0mRecord\u001b[0m \u001b[0;32mimport\u001b[0m \u001b[0mRecord\u001b[0m\u001b[0;34m\u001b[0m\u001b[0m\n\u001b[0m\u001b[1;32m      2\u001b[0m \u001b[0mdata\u001b[0m\u001b[0;34m=\u001b[0m\u001b[0;34m[\u001b[0m\u001b[0;34m]\u001b[0m\u001b[0;34m\u001b[0m\u001b[0m\n\u001b[1;32m      3\u001b[0m \u001b[0;32mfor\u001b[0m \u001b[0mi\u001b[0m \u001b[0;32min\u001b[0m \u001b[0mrange\u001b[0m\u001b[0;34m(\u001b[0m\u001b[0mlen\u001b[0m\u001b[0;34m(\u001b[0m\u001b[0mmunged\u001b[0m\u001b[0;34m)\u001b[0m\u001b[0;34m)\u001b[0m\u001b[0;34m:\u001b[0m\u001b[0;34m\u001b[0m\u001b[0m\n\u001b[1;32m      4\u001b[0m     data.append(Record(name=munged[\"Name\"][i],\n\u001b[1;32m      5\u001b[0m                        \u001b[0maddress\u001b[0m\u001b[0;34m=\u001b[0m\u001b[0mmunged\u001b[0m\u001b[0;34m[\u001b[0m\u001b[0;34m'Address'\u001b[0m\u001b[0;34m]\u001b[0m\u001b[0;34m[\u001b[0m\u001b[0mi\u001b[0m\u001b[0;34m]\u001b[0m\u001b[0;34m,\u001b[0m\u001b[0;34m\u001b[0m\u001b[0m\n",
      "\u001b[0;31mModuleNotFoundError\u001b[0m: No module named 'classes'"
     ]
    }
   ],
   "source": [
    "from classes.Record import Record\n",
    "data=[]\n",
    "for i in range(len(munged)):\n",
    "    data.append(Record(name=munged[\"Name\"][i],\n",
    "                       address=munged['Address'][i],\n",
    "                       city=munged['City'][i],\n",
    "                       zip_code=munged['Zip'][i],\n",
    "                       web=munged['Web'][i],\n",
    "                       program_name=munged['Program Name'][i]))\n",
    "import pickle as p\n",
    "with open(\"../DATA/CollegeObjects.dat\",\"wb\") as f:\n",
    "    p.dump(data,f)"
   ]
  },
  {
   "cell_type": "markdown",
   "metadata": {},
   "source": [
    "<h1> Predictive Analysis </h1> \n",
    "<blockquote> \n",
    "    <b>Problem</b> : <i> The data set of the schools is a big file lacking numbers.\n",
    "<ol style=\"list-style-type:square\">\n",
    "    <br/>\n",
    "<li> Random Variables are created to subsitute columns in need of analysis</li>\n",
    "</ol> "
   ]
  },
  {
   "cell_type": "code",
   "execution_count": null,
   "metadata": {},
   "outputs": [],
   "source": [
    "import random as r\n",
    "age_of_students=[r.randint(18,61) for i in range(0,len(data))]\n",
    "completion_rate=[r.randint(4,11) for i in range(0,len(data))]\n",
    "data_set=OrderedDict({\n",
    "    \"Name\":list(map(lambda i: i.name,data)),\n",
    "    \"Address\":list(map(lambda i: i.address,data)),\n",
    "    \"City\":list(map(lambda i: i.city,data)),\n",
    "    \"Zip\":list(map(lambda i: i.zip_code,data)),\n",
    "    \"Web\":list(map(lambda i: i.web,data)),\n",
    "    \"Program Name\":list(map(lambda i: i.program_name,data)),\n",
    "    \"Students Age\":list(age_of_students),\n",
    "    \"Completion Rate\":list(completion_rate)\n",
    "})\n",
    "df = pd.DataFrame(data_set)\n",
    "df.dtypes\n",
    "df.head()"
   ]
  },
  {
   "cell_type": "code",
   "execution_count": null,
   "metadata": {},
   "outputs": [],
   "source": [
    "sns.set_context('paper')\n",
    "sns.set_style('ticks')\n",
    "sns.jointplot(data=df,x=\"Students Age\",y=\"Completion Rate\",kind=\"hex\",color='white')"
   ]
  },
  {
   "cell_type": "code",
   "execution_count": null,
   "metadata": {},
   "outputs": [],
   "source": [
    "sns.set_context('paper')\n",
    "sns.set_style('ticks')\n",
    "sns.jointplot(data=df,x=\"Students Age\",y=\"Completion Rate\",kind=\"kde\",color=\"green\")"
   ]
  },
  {
   "cell_type": "code",
   "execution_count": null,
   "metadata": {},
   "outputs": [],
   "source": [
    "from plotly.offline import * \n",
    "import cufflinks as cf\n",
    "init_notebook_mode(connected=True)\n",
    "cf.go_offline()"
   ]
  },
  {
   "cell_type": "markdown",
   "metadata": {},
   "source": [
    "<h1> 3D Visuals</h1> \n",
    "<blockquote> \n",
    "\n",
    "<pre> \n",
    "<code> \n",
    "length= dataset.length\n",
    "x := list(\"Students Age\")\n",
    "y := list(\"Completion Rate\")\n",
    "z := list(range(0,length))\n",
    "plot(x,y,z)\n",
    "</code>\n",
    "<pre>\n",
    "\n",
    "</blockquote> \n"
   ]
  },
  {
   "cell_type": "code",
   "execution_count": null,
   "metadata": {},
   "outputs": [],
   "source": [
    "df[\"Z\"]=pd.Series(range(0,len(df)))\n",
    "df.head()"
   ]
  },
  {
   "cell_type": "code",
   "execution_count": null,
   "metadata": {},
   "outputs": [],
   "source": [
    "df.head(31).iplot(title=\"Analysis\",\n",
    "         kind=\"scatter3d\",\n",
    "         x=\"Students Age\",\n",
    "         xTitle=\"Students Age\",\n",
    "         y=\"Completion Rate\",\n",
    "         yTitle=\"Completion Rate\",\n",
    "         z=\"Z\",\n",
    "         text=\"Name\",\n",
    "         size=5,\n",
    "         mode=\"markers\",\n",
    "         symbol=\"diamond\",\n",
    "         colorscale=\"RdBu\",\n",
    "         theme=\"space\")"
   ]
  },
  {
   "cell_type": "code",
   "execution_count": null,
   "metadata": {
    "scrolled": true
   },
   "outputs": [],
   "source": [
    "df.head(11).iplot(title=\"Analysis\",\n",
    "         kind=\"scatter3d\",\n",
    "         x=\"Students Age\",\n",
    "         xTitle=\"Students Age\",\n",
    "         y=\"Completion Rate\",\n",
    "         yTitle=\"Completion Rate\",\n",
    "         z=\"Z\",\n",
    "         text=\"Name\",\n",
    "         mode=\"markers+text\",\n",
    "         dash=\"dash\",\n",
    "         fill=\"set2\",\n",
    "         symbol=\"square\",\n",
    "         colorscale=\"rdpu\",\n",
    "         theme=\"white\")"
   ]
  },
  {
   "cell_type": "code",
   "execution_count": 13,
   "metadata": {},
   "outputs": [
    {
     "ename": "NameError",
     "evalue": "name 'cf' is not defined",
     "output_type": "error",
     "traceback": [
      "\u001b[0;31m---------------------------------------------------------------------------\u001b[0m",
      "\u001b[0;31mNameError\u001b[0m                                 Traceback (most recent call last)",
      "\u001b[0;32m<ipython-input-13-da9891b1e45b>\u001b[0m in \u001b[0;36m<module>\u001b[0;34m()\u001b[0m\n\u001b[0;32m----> 1\u001b[0;31m \u001b[0mcf\u001b[0m\u001b[0;34m.\u001b[0m\u001b[0mcolors\u001b[0m\u001b[0;34m.\u001b[0m\u001b[0mscales\u001b[0m\u001b[0;34m(\u001b[0m\u001b[0;34m)\u001b[0m\u001b[0;34m\u001b[0m\u001b[0m\n\u001b[0m",
      "\u001b[0;31mNameError\u001b[0m: name 'cf' is not defined"
     ]
    }
   ],
   "source": [
    "cf.colors.scales()"
   ]
  },
  {
   "cell_type": "code",
   "execution_count": 15,
   "metadata": {},
   "outputs": [
    {
     "data": {
      "text/html": [
       "<div>\n",
       "<table border=\"1\" class=\"dataframe\">\n",
       "  <thead>\n",
       "    <tr style=\"text-align: right;\">\n",
       "      <th></th>\n",
       "      <th>Name</th>\n",
       "      <th>Address</th>\n",
       "      <th>City</th>\n",
       "      <th>Zip</th>\n",
       "      <th>Web</th>\n",
       "      <th>Program Name</th>\n",
       "    </tr>\n",
       "  </thead>\n",
       "  <tbody>\n",
       "    <tr>\n",
       "      <th>0</th>\n",
       "      <td>Community College of the Air Force</td>\n",
       "      <td>130 W Maxwell Blvd</td>\n",
       "      <td>Montgomery</td>\n",
       "      <td>36112-6613</td>\n",
       "      <td>www.maxwell.af.mil/au/ccaf/</td>\n",
       "      <td>NaN</td>\n",
       "    </tr>\n",
       "    <tr>\n",
       "      <th>1</th>\n",
       "      <td>Community College of the Air Force</td>\n",
       "      <td>130 W Maxwell Blvd</td>\n",
       "      <td>Montgomery</td>\n",
       "      <td>36112-6613</td>\n",
       "      <td>www.maxwell.af.mil/au/ccaf/</td>\n",
       "      <td>Physical Therapy (PTA) - Programs for the phys...</td>\n",
       "    </tr>\n",
       "    <tr>\n",
       "      <th>2</th>\n",
       "      <td>Alabama A &amp; M University</td>\n",
       "      <td>4900 Meridian St</td>\n",
       "      <td>Normal</td>\n",
       "      <td>35762</td>\n",
       "      <td>www.aamu.edu/</td>\n",
       "      <td>NaN</td>\n",
       "    </tr>\n",
       "  </tbody>\n",
       "</table>\n",
       "</div>"
      ],
      "text/plain": [
       "                                 Name             Address        City  \\\n",
       "0  Community College of the Air Force  130 W Maxwell Blvd  Montgomery   \n",
       "1  Community College of the Air Force  130 W Maxwell Blvd  Montgomery   \n",
       "2            Alabama A & M University    4900 Meridian St      Normal   \n",
       "\n",
       "          Zip                          Web  \\\n",
       "0  36112-6613  www.maxwell.af.mil/au/ccaf/   \n",
       "1  36112-6613  www.maxwell.af.mil/au/ccaf/   \n",
       "2       35762                www.aamu.edu/   \n",
       "\n",
       "                                        Program Name  \n",
       "0                                                NaN  \n",
       "1  Physical Therapy (PTA) - Programs for the phys...  \n",
       "2                                                NaN  "
      ]
     },
     "execution_count": 15,
     "metadata": {},
     "output_type": "execute_result"
    }
   ],
   "source": [
    "munged.head(3)"
   ]
  },
  {
   "cell_type": "code",
   "execution_count": 16,
   "metadata": {},
   "outputs": [],
   "source": [
    "from py2neo import Graph, Node, Relationship"
   ]
  },
  {
   "cell_type": "code",
   "execution_count": 18,
   "metadata": {},
   "outputs": [],
   "source": [
    "g = Graph(\"bolt://localhost:7687\",auth=(\"neo4j\", \"admin\"))"
   ]
  },
  {
   "cell_type": "code",
   "execution_count": 21,
   "metadata": {},
   "outputs": [],
   "source": [
    "schools = [Node(\"School\",name=munged[\"Name\"][e],city=munged[\"City\"][e]) for e in range(len(munged))]"
   ]
  },
  {
   "cell_type": "code",
   "execution_count": 23,
   "metadata": {},
   "outputs": [],
   "source": [
    "program = [Node(\"Program Name\",name=munged[\"Program Name\"][e]) for e in range(len(munged))]"
   ]
  },
  {
   "cell_type": "code",
   "execution_count": null,
   "metadata": {},
   "outputs": [],
   "source": [
    "i=0\n",
    "while(len(schools)>i):\n",
    "    g.create(schools[i] | program[i])\n",
    "    i+=1\n",
    "    \n"
   ]
  },
  {
   "cell_type": "code",
   "execution_count": 25,
   "metadata": {},
   "outputs": [
    {
     "ename": "TypeError",
     "evalue": "<lambda>() missing 1 required positional argument: 'p'",
     "output_type": "error",
     "traceback": [
      "\u001b[0;31m---------------------------------------------------------------------------\u001b[0m",
      "\u001b[0;31mTypeError\u001b[0m                                 Traceback (most recent call last)",
      "\u001b[0;32m<ipython-input-25-1a5b60e28d67>\u001b[0m in \u001b[0;36m<module>\u001b[0;34m()\u001b[0m\n\u001b[0;32m----> 1\u001b[0;31m \u001b[0mlist\u001b[0m\u001b[0;34m(\u001b[0m\u001b[0m_\u001b[0m\u001b[0;34m)\u001b[0m\u001b[0;34m\u001b[0m\u001b[0m\n\u001b[0m",
      "\u001b[0;31mTypeError\u001b[0m: <lambda>() missing 1 required positional argument: 'p'"
     ]
    }
   ],
   "source": [
    "i = 0 \n",
    "while(len(schools) > i):\n",
    "    s=\"\"\n",
    "    g.create(Relationship(schools[i],\"PROGRAM\",program[i]))\n",
    "    s+=\"Creating index:\\t{}\".format(i)\n",
    "    print(s)\n",
    "    i+=1"
   ]
  },
  {
   "cell_type": "code",
   "execution_count": null,
   "metadata": {},
   "outputs": [],
   "source": []
  }
 ],
 "metadata": {
  "kernelspec": {
   "display_name": "Python 3",
   "language": "python",
   "name": "python3"
  },
  "language_info": {
   "codemirror_mode": {
    "name": "ipython",
    "version": 3
   },
   "file_extension": ".py",
   "mimetype": "text/x-python",
   "name": "python",
   "nbconvert_exporter": "python",
   "pygments_lexer": "ipython3",
   "version": "3.6.4"
  }
 },
 "nbformat": 4,
 "nbformat_minor": 1
}
