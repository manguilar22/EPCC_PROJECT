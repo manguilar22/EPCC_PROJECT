{
 "cells": [
  {
   "cell_type": "code",
   "execution_count": 1,
   "id": "ed134feb",
   "metadata": {},
   "outputs": [],
   "source": [
    "import pandas as pd\n",
    "import numpy as np\n",
    "import pickle as p\n",
    "import seaborn as sns \n",
    "import matplotlib.pyplot as plt\n",
    "%matplotlib inline"
   ]
  },
  {
   "cell_type": "markdown",
   "id": "cfa238d4",
   "metadata": {},
   "source": [
    "## Helper functions"
   ]
  },
  {
   "cell_type": "code",
   "execution_count": 2,
   "id": "40dd0552",
   "metadata": {
    "scrolled": true
   },
   "outputs": [],
   "source": [
    "def save(c,name=\"\"):\n",
    "    individualColumnFormat = [dict(start_loc_lat=start[0],start_loc_lon=start[1],start_name=registry[start],end_loc_lat=end[0],end_loc_lon=end[1],end_name=registry[end]) for start,end in c]\n",
    "    compact = [dict(start_loc=start,start_name=registry[start],end_name=registry[end],end_loc=end) for start,end in c]\n",
    "    filePath = \"../data/full/hospital\"\n",
    "    pd.DataFrame(compact).to_csv(f\"{filePath+name}.csv\",index=False, encoding=\"UTF-8\")\n",
    "    pd.DataFrame(compact).to_json(f\"{filePath+name}.json\",orient=\"records\")\n",
    "    pd.DataFrame(individualColumnFormat).to_csv(f\"{filePath}-tab.csv\",index=False, encoding=\"UTF-8\")\n",
    "    pd.DataFrame(individualColumnFormat).to_json(f\"{filePath}-tab.json\",orient=\"records\")"
   ]
  },
  {
   "cell_type": "markdown",
   "id": "280b7a9b",
   "metadata": {},
   "source": [
    "### Dataset length is 53676 hospitals with their GPS location. "
   ]
  },
  {
   "cell_type": "code",
   "execution_count": 3,
   "id": "8a1d43ca",
   "metadata": {},
   "outputs": [],
   "source": [
    "df = pd.read_json(\"../data/source/Hospitals.json\",orient=\"records\")"
   ]
  },
  {
   "cell_type": "code",
   "execution_count": 4,
   "id": "c51c2911",
   "metadata": {},
   "outputs": [
    {
     "data": {
      "text/html": [
       "<div>\n",
       "<style scoped>\n",
       "    .dataframe tbody tr th:only-of-type {\n",
       "        vertical-align: middle;\n",
       "    }\n",
       "\n",
       "    .dataframe tbody tr th {\n",
       "        vertical-align: top;\n",
       "    }\n",
       "\n",
       "    .dataframe thead th {\n",
       "        text-align: right;\n",
       "    }\n",
       "</style>\n",
       "<table border=\"1\" class=\"dataframe\">\n",
       "  <thead>\n",
       "    <tr style=\"text-align: right;\">\n",
       "      <th></th>\n",
       "      <th>Name</th>\n",
       "      <th>Lat</th>\n",
       "      <th>Lon</th>\n",
       "      <th>Id</th>\n",
       "    </tr>\n",
       "  </thead>\n",
       "  <tbody>\n",
       "    <tr>\n",
       "      <th>0</th>\n",
       "      <td>Total Rf Heliport</td>\n",
       "      <td>40.070801</td>\n",
       "      <td>-74.933601</td>\n",
       "      <td>6523</td>\n",
       "    </tr>\n",
       "    <tr>\n",
       "      <th>1</th>\n",
       "      <td>Aero B Ranch Airport</td>\n",
       "      <td>38.704022</td>\n",
       "      <td>-101.473911</td>\n",
       "      <td>323361</td>\n",
       "    </tr>\n",
       "    <tr>\n",
       "      <th>2</th>\n",
       "      <td>Lowell Field</td>\n",
       "      <td>59.949200</td>\n",
       "      <td>-151.695999</td>\n",
       "      <td>6524</td>\n",
       "    </tr>\n",
       "    <tr>\n",
       "      <th>3</th>\n",
       "      <td>Epps Airpark</td>\n",
       "      <td>34.864799</td>\n",
       "      <td>-86.770302</td>\n",
       "      <td>6525</td>\n",
       "    </tr>\n",
       "    <tr>\n",
       "      <th>4</th>\n",
       "      <td>Newport Hospital &amp; Clinic Heliport</td>\n",
       "      <td>35.608700</td>\n",
       "      <td>-91.254898</td>\n",
       "      <td>6526</td>\n",
       "    </tr>\n",
       "  </tbody>\n",
       "</table>\n",
       "</div>"
      ],
      "text/plain": [
       "                                 Name        Lat         Lon      Id\n",
       "0                   Total Rf Heliport  40.070801  -74.933601    6523\n",
       "1                Aero B Ranch Airport  38.704022 -101.473911  323361\n",
       "2                        Lowell Field  59.949200 -151.695999    6524\n",
       "3                        Epps Airpark  34.864799  -86.770302    6525\n",
       "4  Newport Hospital & Clinic Heliport  35.608700  -91.254898    6526"
      ]
     },
     "execution_count": 4,
     "metadata": {},
     "output_type": "execute_result"
    }
   ],
   "source": [
    "df.head()"
   ]
  },
  {
   "cell_type": "code",
   "execution_count": 5,
   "id": "2a5fdb02",
   "metadata": {},
   "outputs": [],
   "source": [
    "A = dict(start_name=df[\"Name\"],start_lon=df[\"Lat\"],start_lat=df[\"Lon\"])"
   ]
  },
  {
   "cell_type": "code",
   "execution_count": 6,
   "id": "aa1f9252",
   "metadata": {},
   "outputs": [],
   "source": [
    "registry = dict(zip(zip(A[\"start_lat\"],A[\"start_lon\"]),A[\"start_name\"]))"
   ]
  },
  {
   "cell_type": "markdown",
   "id": "58e0a0fa",
   "metadata": {},
   "source": [
    "## Test set"
   ]
  },
  {
   "cell_type": "code",
   "execution_count": 7,
   "id": "3ec042cc",
   "metadata": {},
   "outputs": [],
   "source": [
    "test_set = {k : v[:10].tolist() for k,v in A.items() }"
   ]
  },
  {
   "cell_type": "code",
   "execution_count": 8,
   "id": "6a5f485d",
   "metadata": {},
   "outputs": [],
   "source": [
    "fullData = list(zip(A[\"start_lat\"],A[\"start_lon\"]))"
   ]
  },
  {
   "cell_type": "markdown",
   "id": "2c99ad1e",
   "metadata": {},
   "source": [
    "## Execute shortest path algorithm"
   ]
  },
  {
   "cell_type": "code",
   "execution_count": 9,
   "id": "8b75ad43",
   "metadata": {},
   "outputs": [],
   "source": [
    "from classes.Algorithms.Algorithms import Algorithms"
   ]
  },
  {
   "cell_type": "code",
   "execution_count": 10,
   "id": "7b7eff64",
   "metadata": {},
   "outputs": [
    {
     "name": "stdout",
     "output_type": "stream",
     "text": [
      "--- 0:0:0 CPU Elapsed Time. ---\n",
      "Seconds:\t0.002387 \n"
     ]
    }
   ],
   "source": [
    "prep = list(zip(test_set[\"start_lat\"],test_set[\"start_lon\"]))\n",
    "c = Algorithms().euclideanDistance(prep)\n",
    "save(c,name=\"-testData\")"
   ]
  },
  {
   "cell_type": "code",
   "execution_count": null,
   "id": "2a25017d",
   "metadata": {},
   "outputs": [],
   "source": [
    "c = Algorithms().euclideanDistance(fullData)\n",
    "save(c,name=\"-full\")"
   ]
  },
  {
   "cell_type": "code",
   "execution_count": null,
   "id": "e7fa8226",
   "metadata": {},
   "outputs": [],
   "source": []
  },
  {
   "cell_type": "code",
   "execution_count": null,
   "id": "3601c644",
   "metadata": {},
   "outputs": [],
   "source": []
  },
  {
   "cell_type": "code",
   "execution_count": null,
   "id": "79b8c758",
   "metadata": {},
   "outputs": [],
   "source": []
  }
 ],
 "metadata": {
  "kernelspec": {
   "display_name": "Python 3",
   "language": "python",
   "name": "python3"
  },
  "language_info": {
   "codemirror_mode": {
    "name": "ipython",
    "version": 3
   },
   "file_extension": ".py",
   "mimetype": "text/x-python",
   "name": "python",
   "nbconvert_exporter": "python",
   "pygments_lexer": "ipython3",
   "version": "3.9.5"
  }
 },
 "nbformat": 4,
 "nbformat_minor": 5
}
