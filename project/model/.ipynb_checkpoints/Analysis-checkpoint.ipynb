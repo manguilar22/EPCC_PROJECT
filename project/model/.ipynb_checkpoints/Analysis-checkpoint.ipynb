{
 "cells": [
  {
   "cell_type": "code",
   "execution_count": 1,
   "metadata": {},
   "outputs": [],
   "source": [
    "from classes.Algorithms import Algorithms\n",
    "import pickle as p"
   ]
  },
  {
   "cell_type": "markdown",
   "metadata": {},
   "source": [
    "<h1 style=\"color:yellow\"> Load Data through Serialization</h1> "
   ]
  },
  {
   "cell_type": "code",
   "execution_count": 2,
   "metadata": {},
   "outputs": [],
   "source": [
    "with open(\"../DATA/Locations.dat\",\"rb\") as f:\n",
    "    data=p.load(f)"
   ]
  },
  {
   "cell_type": "markdown",
   "metadata": {},
   "source": [
    "<h1 style=\"color:yellow\">Dictionaries</h1> \n",
    "<i><b style=\"color:red\">*</b> <u>Using dictionaries forces to sort objects as inserted</u></i>"
   ]
  },
  {
   "cell_type": "code",
   "execution_count": 3,
   "metadata": {},
   "outputs": [
    {
     "name": "stdout",
     "output_type": "stream",
     "text": [
      "\n",
      "\n",
      "Names: || Coordinates || Name ||\n",
      "\n",
      "{(31.770555555555553, -106.50044444444444): 'Hospital Providence of El Paso', (31.770083333333332, -106.49905555555556): 'Palmas Medical Center', (31.77872222222222, -106.47725): 'Kindred Hospital El Paso', (31.77872222222222, -106.4775): 'El Paso Speciality Hospital', (31.78377777777778, -106.47425): 'El Paso LTAC Hospital', (31.78902777777778, -106.50886111111112): 'Las Palmas Rehabilitation Center', (31.801000000000002, -106.51002777777778): 'Complete Care Community Hospital', (31.821527777777778, -106.46300000000001): 'William Beaumont Army Medical Center', (31.78852777777778, -106.43511111111111): 'University Medical Center Foundation', (31.7905, -106.2645): 'Hospital of Providence East Campus', (31.75686111111111, -106.3505): 'Del Sol Medical Center'}\n",
      "\n",
      "Coordinates: || Name || Coordinates ||\n",
      "\n",
      "{'Hospital Providence of El Paso': (31.770555555555553, -106.50044444444444), 'Palmas Medical Center': (31.770083333333332, -106.49905555555556), 'Kindred Hospital El Paso': (31.77872222222222, -106.47725), 'El Paso Speciality Hospital': (31.77872222222222, -106.4775), 'El Paso LTAC Hospital': (31.78377777777778, -106.47425), 'Las Palmas Rehabilitation Center': (31.78902777777778, -106.50886111111112), 'Complete Care Community Hospital': (31.801000000000002, -106.51002777777778), 'William Beaumont Army Medical Center': (31.821527777777778, -106.46300000000001), 'University Medical Center Foundation': (31.78852777777778, -106.43511111111111), 'Hospital of Providence East Campus': (31.7905, -106.2645), 'Del Sol Medical Center': (31.75686111111111, -106.3505)}\n"
     ]
    }
   ],
   "source": [
    "names=dict(zip(data[\"DD\"],data[\"Name\"]))\n",
    "coord=dict(zip(data[\"Name\"],data[\"DD\"]))\n",
    "with open(\"../DATA/ElPasoNameCoordinateMAP.dat\",\"wb\") as f: \n",
    "    p.dump(coord,f)\n",
    "with open(\"../DATA/ElPasoCoordinatesNameMAP.dat\",\"wb\") as f:\n",
    "    p.dump(names,f)\n",
    "print(\"\\n\\nNames: || Coordinates || Name ||\\n\\n{n}\\n\\nCoordinates: || Name || Coordinates ||\\n\\n{c}\".format(n=names,c=coord))"
   ]
  },
  {
   "cell_type": "markdown",
   "metadata": {},
   "source": [
    "<h1 style=\"color:yellow\"> Sorting </h1> \n",
    "$$\\psi=\\sqrt{\\sum_{i=0}^{n}(P_i-Q_i)^2}=C$$\n",
    "<blockquote> \n",
    "<pre>\n",
    "<u>a</u> := { (x<sub>1</sub>,y<sub>1</sub>) , (x<sub>2</sub>,y<sub>2</sub>) , (x<sub>3</sub>,y<sub>3</sub>) , (x<sub>4</sub>,y<sub>4</sub>), &there4;} \n",
    "<u> <span style=\"font-size:25px;\">&psi;</span>(a) </u> \n",
    " c := { tuple[|(x<sub>1</sub>,y<sub>1</sub>)|,|(c<sub>1</sub>,c<sub>2</sub>)|] , tuple[|(x<sub>2</sub>,y<sub>2</sub>)|,|(c<sub>1</sub>,c<sub>2</sub>)|], &there4;}\n",
    "</pre>\n",
    "</blockquote>"
   ]
  },
  {
   "cell_type": "code",
   "execution_count": 4,
   "metadata": {},
   "outputs": [
    {
     "name": "stdout",
     "output_type": "stream",
     "text": [
      "--- 0.016389131546020508 CPU Seconds Elapsed ---\n"
     ]
    }
   ],
   "source": [
    "c=Algorithms().euclideanDistance(list(coord.values()))"
   ]
  },
  {
   "cell_type": "code",
   "execution_count": 5,
   "metadata": {},
   "outputs": [
    {
     "name": "stdout",
     "output_type": "stream",
     "text": [
      "(31.770555555555553, -106.50044444444444) \t\t\t\t (31.770083333333332, -106.49905555555556)\n",
      "(31.770083333333332, -106.49905555555556) \t\t\t\t (31.770555555555553, -106.50044444444444)\n",
      "(31.77872222222222, -106.47725) \t\t\t\t (31.77872222222222, -106.4775)\n",
      "(31.77872222222222, -106.4775) \t\t\t\t (31.77872222222222, -106.47725)\n",
      "(31.78377777777778, -106.47425) \t\t\t\t (31.77872222222222, -106.47725)\n",
      "(31.78902777777778, -106.50886111111112) \t\t\t\t (31.801000000000002, -106.51002777777778)\n",
      "(31.801000000000002, -106.51002777777778) \t\t\t\t (31.78902777777778, -106.50886111111112)\n",
      "(31.821527777777778, -106.46300000000001) \t\t\t\t (31.78377777777778, -106.47425)\n",
      "(31.78852777777778, -106.43511111111111) \t\t\t\t (31.78377777777778, -106.47425)\n",
      "(31.7905, -106.2645) \t\t\t\t (31.75686111111111, -106.3505)\n",
      "(31.75686111111111, -106.3505) \t\t\t\t (31.78852777777778, -106.43511111111111)\n",
      "\n",
      "\n",
      "Hospital Providence of El Paso \t\t\t\t Palmas Medical Center\n",
      "Palmas Medical Center \t\t\t\t Hospital Providence of El Paso\n",
      "Kindred Hospital El Paso \t\t\t\t El Paso Speciality Hospital\n",
      "El Paso Speciality Hospital \t\t\t\t Kindred Hospital El Paso\n",
      "El Paso LTAC Hospital \t\t\t\t Kindred Hospital El Paso\n",
      "Las Palmas Rehabilitation Center \t\t\t\t Complete Care Community Hospital\n",
      "Complete Care Community Hospital \t\t\t\t Las Palmas Rehabilitation Center\n",
      "William Beaumont Army Medical Center \t\t\t\t El Paso LTAC Hospital\n",
      "University Medical Center Foundation \t\t\t\t El Paso LTAC Hospital\n",
      "Hospital of Providence East Campus \t\t\t\t Del Sol Medical Center\n",
      "Del Sol Medical Center \t\t\t\t University Medical Center Foundation\n"
     ]
    },
    {
     "data": {
      "text/plain": [
       "[None, None, None, None, None, None, None, None, None, None, None]"
      ]
     },
     "execution_count": 5,
     "metadata": {},
     "output_type": "execute_result"
    }
   ],
   "source": [
    "[print(i,\"\\t\\t\\t\\t\",j) for (i,j) in c]\n",
    "print(\"\\n\")\n",
    "[print(names[i],\"\\t\\t\\t\\t\",names[j]) for (i,j) in c]"
   ]
  },
  {
   "cell_type": "code",
   "execution_count": 6,
   "metadata": {},
   "outputs": [
    {
     "data": {
      "text/plain": [
       "{(31.75686111111111, -106.3505): (31.78852777777778, -106.43511111111111),\n",
       " (31.770083333333332, -106.49905555555556): (31.770555555555553,\n",
       "  -106.50044444444444),\n",
       " (31.770555555555553, -106.50044444444444): (31.770083333333332,\n",
       "  -106.49905555555556),\n",
       " (31.77872222222222, -106.4775): (31.77872222222222, -106.47725),\n",
       " (31.77872222222222, -106.47725): (31.77872222222222, -106.4775),\n",
       " (31.78377777777778, -106.47425): (31.77872222222222, -106.47725),\n",
       " (31.78852777777778, -106.43511111111111): (31.78377777777778, -106.47425),\n",
       " (31.78902777777778, -106.50886111111112): (31.801000000000002,\n",
       "  -106.51002777777778),\n",
       " (31.7905, -106.2645): (31.75686111111111, -106.3505),\n",
       " (31.801000000000002, -106.51002777777778): (31.78902777777778,\n",
       "  -106.50886111111112),\n",
       " (31.821527777777778, -106.46300000000001): (31.78377777777778, -106.47425)}"
      ]
     },
     "execution_count": 6,
     "metadata": {},
     "output_type": "execute_result"
    }
   ],
   "source": [
    "a,b=zip(*c)\n",
    "registry=dict(zip(a,b))\n",
    "registry"
   ]
  },
  {
   "cell_type": "code",
   "execution_count": 8,
   "metadata": {},
   "outputs": [
    {
     "name": "stdout",
     "output_type": "stream",
     "text": [
      "(31.77872222222222, -106.47725)\n"
     ]
    }
   ],
   "source": [
    "print(Algorithms().find(coord[\"El Paso LTAC Hospital\"],list(coord.values())))"
   ]
  },
  {
   "cell_type": "code",
   "execution_count": 9,
   "metadata": {},
   "outputs": [],
   "source": [
    "with open(\"../DATA/ElPasoSortedHospitals.dat\",\"wb\") as f:\n",
    "    p.dump(registry,f)"
   ]
  },
  {
   "cell_type": "code",
   "execution_count": null,
   "metadata": {},
   "outputs": [],
   "source": []
  }
 ],
 "metadata": {
  "kernelspec": {
   "display_name": "Python 3",
   "language": "python",
   "name": "python3"
  },
  "language_info": {
   "codemirror_mode": {
    "name": "ipython",
    "version": 3
   },
   "file_extension": ".py",
   "mimetype": "text/x-python",
   "name": "python",
   "nbconvert_exporter": "python",
   "pygments_lexer": "ipython3",
   "version": "3.6.4"
  }
 },
 "nbformat": 4,
 "nbformat_minor": 2
}
