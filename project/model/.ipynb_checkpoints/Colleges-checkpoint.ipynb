{
 "cells": [
  {
   "cell_type": "code",
   "execution_count": 8,
   "metadata": {},
   "outputs": [],
   "source": [
    "import os \n",
    "import pandas as pd"
   ]
  },
  {
   "cell_type": "code",
   "execution_count": 9,
   "metadata": {},
   "outputs": [],
   "source": [
    "df = pd.read_csv(\"../data/source/Colleges.csv\")"
   ]
  },
  {
   "cell_type": "code",
   "execution_count": 5,
   "metadata": {},
   "outputs": [
    {
     "data": {
      "text/plain": [
       "43789"
      ]
     },
     "execution_count": 5,
     "metadata": {},
     "output_type": "execute_result"
    }
   ],
   "source": [
    "len(df)"
   ]
  },
  {
   "cell_type": "code",
   "execution_count": 10,
   "metadata": {},
   "outputs": [],
   "source": [
    "munged = df.dropna(axis=0, subset=['ProgramName',\"Web\"])"
   ]
  },
  {
   "cell_type": "code",
   "execution_count": 7,
   "metadata": {},
   "outputs": [
    {
     "data": {
      "text/plain": [
       "13214"
      ]
     },
     "execution_count": 7,
     "metadata": {},
     "output_type": "execute_result"
    }
   ],
   "source": [
    "len(munged)"
   ]
  },
  {
   "cell_type": "code",
   "execution_count": 8,
   "metadata": {},
   "outputs": [
    {
     "name": "stdout",
     "output_type": "stream",
     "text": [
      "The munged dataset is of size 13214 and has decrease of 70% from the original size of 43789\n"
     ]
    }
   ],
   "source": [
    "a = lambda: len(munged) * 100 // len(df) \n",
    "print(\n",
    "    \"The munged dataset is of size {} and has decrease of {}% from the original size of {}\"\n",
    "    .format(len(munged),100-a(),len(df))\n",
    ")"
   ]
  },
  {
   "cell_type": "code",
   "execution_count": 9,
   "metadata": {},
   "outputs": [],
   "source": [
    "munged.to_csv(\"../data/csv/CollegesCLEAN.csv\",encoding=\"UTF-8\",index=False)"
   ]
  },
  {
   "cell_type": "code",
   "execution_count": 10,
   "metadata": {},
   "outputs": [],
   "source": [
    "munged.to_json(\"../data/rest/Colleges.json\",orient=\"records\")"
   ]
  },
  {
   "cell_type": "code",
   "execution_count": 11,
   "metadata": {},
   "outputs": [
    {
     "data": {
      "text/html": [
       "<div>\n",
       "<style scoped>\n",
       "    .dataframe tbody tr th:only-of-type {\n",
       "        vertical-align: middle;\n",
       "    }\n",
       "\n",
       "    .dataframe tbody tr th {\n",
       "        vertical-align: top;\n",
       "    }\n",
       "\n",
       "    .dataframe thead th {\n",
       "        text-align: right;\n",
       "    }\n",
       "</style>\n",
       "<table border=\"1\" class=\"dataframe\">\n",
       "  <thead>\n",
       "    <tr style=\"text-align: right;\">\n",
       "      <th></th>\n",
       "      <th>Name</th>\n",
       "      <th>Address</th>\n",
       "      <th>City</th>\n",
       "      <th>Zip</th>\n",
       "      <th>Web</th>\n",
       "      <th>ProgramName</th>\n",
       "    </tr>\n",
       "  </thead>\n",
       "  <tbody>\n",
       "    <tr>\n",
       "      <th>1</th>\n",
       "      <td>Community College of the Air Force</td>\n",
       "      <td>130 W Maxwell Blvd</td>\n",
       "      <td>Montgomery</td>\n",
       "      <td>36112-6613</td>\n",
       "      <td>www.maxwell.af.mil/au/ccaf/</td>\n",
       "      <td>Physical Therapy (PTA) - Programs for the phys...</td>\n",
       "    </tr>\n",
       "    <tr>\n",
       "      <th>3</th>\n",
       "      <td>Alabama A &amp; M University</td>\n",
       "      <td>4900 Meridian St</td>\n",
       "      <td>Normal</td>\n",
       "      <td>35762</td>\n",
       "      <td>www.aamu.edu/</td>\n",
       "      <td>Didactic Program in Dietetics</td>\n",
       "    </tr>\n",
       "    <tr>\n",
       "      <th>4</th>\n",
       "      <td>Alabama A &amp; M University</td>\n",
       "      <td>4900 Meridian St</td>\n",
       "      <td>Normal</td>\n",
       "      <td>35762</td>\n",
       "      <td>www.aamu.edu/</td>\n",
       "      <td>Speech-Language Pathology (SLP) - Graduate deg...</td>\n",
       "    </tr>\n",
       "    <tr>\n",
       "      <th>5</th>\n",
       "      <td>Alabama A &amp; M University</td>\n",
       "      <td>4900 Meridian St</td>\n",
       "      <td>Normal</td>\n",
       "      <td>35762</td>\n",
       "      <td>www.aamu.edu/</td>\n",
       "      <td>Teacher Education (TED) - Baccalaureate and gr...</td>\n",
       "    </tr>\n",
       "    <tr>\n",
       "      <th>7</th>\n",
       "      <td>University of Alabama at Birmingham</td>\n",
       "      <td>1720 2nd Avenue South</td>\n",
       "      <td>Birmingham</td>\n",
       "      <td>35233</td>\n",
       "      <td>www.uab.edu</td>\n",
       "      <td>Dietetics (DIETI) - Dietetic Internship</td>\n",
       "    </tr>\n",
       "  </tbody>\n",
       "</table>\n",
       "</div>"
      ],
      "text/plain": [
       "                                  Name                Address        City  \\\n",
       "1   Community College of the Air Force     130 W Maxwell Blvd  Montgomery   \n",
       "3             Alabama A & M University       4900 Meridian St      Normal   \n",
       "4             Alabama A & M University       4900 Meridian St      Normal   \n",
       "5             Alabama A & M University       4900 Meridian St      Normal   \n",
       "7  University of Alabama at Birmingham  1720 2nd Avenue South  Birmingham   \n",
       "\n",
       "          Zip                          Web  \\\n",
       "1  36112-6613  www.maxwell.af.mil/au/ccaf/   \n",
       "3       35762                www.aamu.edu/   \n",
       "4       35762                www.aamu.edu/   \n",
       "5       35762                www.aamu.edu/   \n",
       "7       35233                  www.uab.edu   \n",
       "\n",
       "                                         ProgramName  \n",
       "1  Physical Therapy (PTA) - Programs for the phys...  \n",
       "3                      Didactic Program in Dietetics  \n",
       "4  Speech-Language Pathology (SLP) - Graduate deg...  \n",
       "5  Teacher Education (TED) - Baccalaureate and gr...  \n",
       "7            Dietetics (DIETI) - Dietetic Internship  "
      ]
     },
     "execution_count": 11,
     "metadata": {},
     "output_type": "execute_result"
    }
   ],
   "source": [
    "munged.head()"
   ]
  },
  {
   "cell_type": "code",
   "execution_count": 1,
   "metadata": {
    "scrolled": true
   },
   "outputs": [],
   "source": [
    "from pymongo import MongoClient"
   ]
  },
  {
   "cell_type": "code",
   "execution_count": 27,
   "metadata": {},
   "outputs": [],
   "source": [
    "host = MongoClient(host=\"192.168.1.97\",port=27017)"
   ]
  },
  {
   "cell_type": "code",
   "execution_count": 28,
   "metadata": {},
   "outputs": [],
   "source": [
    "db = host[\"bsd\"]"
   ]
  },
  {
   "cell_type": "code",
   "execution_count": 29,
   "metadata": {},
   "outputs": [],
   "source": [
    "client = db[\"colleges\"]"
   ]
  },
  {
   "cell_type": "code",
   "execution_count": 30,
   "metadata": {},
   "outputs": [],
   "source": [
    "for idx, e in munged.iterrows():\n",
    "    client.insert_one(dict(\n",
    "        name=e[\"Name\"],\n",
    "        address=e[\"Address\"],\n",
    "        city=e[\"City\"],\n",
    "        zip=e[\"Zip\"],\n",
    "        web=e[\"Web\"],\n",
    "        programName=e[\"ProgramName\"]\n",
    "    ))"
   ]
  },
  {
   "cell_type": "code",
   "execution_count": null,
   "metadata": {},
   "outputs": [],
   "source": []
  }
 ],
 "metadata": {
  "kernelspec": {
   "display_name": "Python 3",
   "language": "python",
   "name": "python3"
  },
  "language_info": {
   "codemirror_mode": {
    "name": "ipython",
    "version": 3
   },
   "file_extension": ".py",
   "mimetype": "text/x-python",
   "name": "python",
   "nbconvert_exporter": "python",
   "pygments_lexer": "ipython3",
   "version": "3.7.6"
  }
 },
 "nbformat": 4,
 "nbformat_minor": 2
}
